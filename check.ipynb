{
 "cells": [
  {
   "cell_type": "code",
   "execution_count": null,
   "id": "d7f23dae",
   "metadata": {
    "vscode": {
     "languageId": "plaintext"
    }
   },
   "outputs": [],
   "source": [
    "\n"
   ]
  },
  {
   "cell_type": "code",
   "execution_count": 56,
   "id": "d7492671",
   "metadata": {},
   "outputs": [
    {
     "name": "stdout",
     "output_type": "stream",
     "text": [
      "Total rows: 2000\n",
      "human_answers: 2000 filled responses\n",
      "chatgpt_answers: 2000 filled responses\n",
      "deepseek-v2_answers: 2000 filled responses\n",
      "llama-3.2_answers: 2000 filled responses\n",
      "gemma3-12b_answers: 2000 filled responses\n",
      "Rows with all model responses filled: 2000\n"
     ]
    }
   ],
   "source": [
    "import pandas as pd\n",
    "\n",
    "# Replace with your actual file name\n",
    "file_path = \"llm_responses_checkpoint_branch2.csv\"\n",
    "\n",
    "try:\n",
    "    df = pd.read_csv(file_path)\n",
    "    total_rows = len(df)\n",
    "    print(f\"Total rows: {total_rows}\")\n",
    "\n",
    "    # Count how many rows have responses filled per model\n",
    "    model_columns = [col for col in df.columns if col.endswith(\"_answers\")]\n",
    "    for col in model_columns:\n",
    "        filled = df[col].notna().sum()\n",
    "        print(f\"{col}: {filled} filled responses\")\n",
    "\n",
    "    # Optionally: how many rows have ALL responses filled\n",
    "    all_filled = df[model_columns].notna().all(axis=1).sum()\n",
    "    print(f\"Rows with all model responses filled: {all_filled}\")\n",
    "\n",
    "except FileNotFoundError:\n",
    "    print(f\"File '{file_path}' not found.\")"
   ]
  }
 ],
 "metadata": {
  "language_info": {
   "name": "python"
  }
 },
 "nbformat": 4,
 "nbformat_minor": 5
}
